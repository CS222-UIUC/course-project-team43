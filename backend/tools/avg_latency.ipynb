{
 "cells": [
  {
   "attachments": {},
   "cell_type": "markdown",
   "metadata": {},
   "source": [
    "## Can we minimize the latency in our download / upload speed?"
   ]
  },
  {
   "cell_type": "code",
   "execution_count": 2,
   "metadata": {},
   "outputs": [],
   "source": [
    "import json"
   ]
  },
  {
   "cell_type": "code",
   "execution_count": 8,
   "metadata": {},
   "outputs": [
    {
     "name": "stdout",
     "output_type": "stream",
     "text": [
      "{'level': 'info', 'message': 'removedFiles:[]'}\n",
      "{'level': 'info', 'message': 'discUtilization:0'}\n",
      "{'level': 'info', 'message': 'removedFiles:[]'}\n",
      "{'level': 'info', 'message': 'discUtilization:0'}\n",
      "{'level': 'info', 'message': 'documents:[/tmp/6fd0810c-7638-4767-9068-8a2749b133ed.mov]'}\n",
      "{'level': 'info', 'message': '/upload', 'status': 200, 'method': 'POST', 'path': '/upload', 'query': '', 'ip': '127.0.0.1', 'user-agent': 'Mozilla/5.0 (Macintosh; Intel Mac OS X 10_15_7) AppleWebKit/537.36 (KHTML, like Gecko) Chrome/111.0.0.0 Safari/537.36', 'latency': 2203075500, 'time': '2023-04-06T17:46:14Z'}\n",
      "{'level': 'info', 'message': 'removedFiles:[]'}\n",
      "{'level': 'info', 'message': 'discUtilization:589315356'}\n"
     ]
    }
   ],
   "source": [
    "endpoints = {}\n",
    "\n",
    "with open(\"/tmp/logs\") as f:\n",
    "    for line in f:\n",
    "        data = json.loads(line)\n",
    "        print(data)\n",
    "        if 'path' in data:\n",
    "            if data[\"path\"] not in endpoints:\n",
    "                endpoints[data[\"path\"]] = {\"n\": 0, \"latency\": 0}\n",
    "            endpoints[data[\"path\"]][\"n\"] += 1\n",
    "            endpoints[data[\"path\"]][\"latency\"] += data[\"latency\"]"
   ]
  },
  {
   "cell_type": "code",
   "execution_count": 9,
   "metadata": {},
   "outputs": [
    {
     "name": "stdout",
     "output_type": "stream",
     "text": [
      "/upload: 2203075500.0\n"
     ]
    }
   ],
   "source": [
    "for endpoint, stats in endpoints.items():\n",
    "    print(f\"{endpoint}: {stats['latency'] / stats['n']}\")"
   ]
  },
  {
   "cell_type": "code",
   "execution_count": null,
   "metadata": {},
   "outputs": [],
   "source": []
  }
 ],
 "metadata": {
  "kernelspec": {
   "display_name": "Python 3",
   "language": "python",
   "name": "python3"
  },
  "language_info": {
   "codemirror_mode": {
    "name": "ipython",
    "version": 3
   },
   "file_extension": ".py",
   "mimetype": "text/x-python",
   "name": "python",
   "nbconvert_exporter": "python",
   "pygments_lexer": "ipython3",
   "version": "3.9.12"
  },
  "orig_nbformat": 4
 },
 "nbformat": 4,
 "nbformat_minor": 2
}
