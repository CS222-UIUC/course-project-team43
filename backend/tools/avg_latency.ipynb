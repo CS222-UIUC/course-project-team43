{
 "cells": [
  {
   "attachments": {},
   "cell_type": "markdown",
   "metadata": {},
   "source": [
    "## Can we minimize the latency in our download / upload speed?"
   ]
  },
  {
   "cell_type": "code",
   "execution_count": 1,
   "metadata": {},
   "outputs": [],
   "source": [
    "import json"
   ]
  },
  {
   "cell_type": "code",
   "execution_count": 14,
   "metadata": {},
   "outputs": [],
   "source": [
    "endpoints = {}\n",
    "\n",
    "with open(\"/tmp/logs\") as f:\n",
    "    for line in f:\n",
    "        data = json.loads(line)\n",
    "        if data[\"path\"] not in endpoints:\n",
    "                endpoints[data[\"path\"]] = {\"n\": 0, \"latency\": 0}\n",
    "\t\t\t\t\n",
    "        endpoints[data[\"path\"]][\"n\"] += 1\n",
    "        endpoints[data[\"path\"]][\"latency\"] += data[\"latency\"]"
   ]
  },
  {
   "cell_type": "code",
   "execution_count": 17,
   "metadata": {},
   "outputs": [
    {
     "name": "stdout",
     "output_type": "stream",
     "text": [
      "/upload: 2400499.6666666665\n",
      "/download: 2105187.5\n"
     ]
    }
   ],
   "source": [
    "for endpoint, stats in endpoints.items():\n",
    "    print(f\"{endpoint}: {stats['latency'] / stats['n']}\")"
   ]
  }
 ],
 "metadata": {
  "kernelspec": {
   "display_name": "Python 3",
   "language": "python",
   "name": "python3"
  },
  "language_info": {
   "codemirror_mode": {
    "name": "ipython",
    "version": 3
   },
   "file_extension": ".py",
   "mimetype": "text/x-python",
   "name": "python",
   "nbconvert_exporter": "python",
   "pygments_lexer": "ipython3",
   "version": "3.9.12"
  },
  "orig_nbformat": 4
 },
 "nbformat": 4,
 "nbformat_minor": 2
}
