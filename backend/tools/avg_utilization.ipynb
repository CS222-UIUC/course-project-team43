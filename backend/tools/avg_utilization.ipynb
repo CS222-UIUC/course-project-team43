{
 "cells": [
  {
   "cell_type": "code",
   "execution_count": 1,
   "metadata": {},
   "outputs": [],
   "source": [
    "import json"
   ]
  },
  {
   "cell_type": "code",
   "execution_count": 18,
   "metadata": {},
   "outputs": [],
   "source": [
    "total_util = 0\n",
    "intervals = 0\n",
    "\n",
    "with open(\"/tmp/logs\") as f:\n",
    "\tfor line in f:\n",
    "\t\tdata = json.loads(line)\n",
    "\t\ttry:\n",
    "\t\t\tkey, value = data[\"message\"].split(\":\")\n",
    "\t\t\tif key == \"discUtilization\":\n",
    "\t\t\t\tintervals += 1\n",
    "\t\t\t\ttotal_util += int(value)\n",
    "\t\texcept: pass"
   ]
  },
  {
   "cell_type": "code",
   "execution_count": 19,
   "metadata": {},
   "outputs": [
    {
     "data": {
      "text/plain": [
       "196438452.0"
      ]
     },
     "execution_count": 19,
     "metadata": {},
     "output_type": "execute_result"
    }
   ],
   "source": [
    "total_util / intervals"
   ]
  }
 ],
 "metadata": {
  "kernelspec": {
   "display_name": "base",
   "language": "python",
   "name": "python3"
  },
  "language_info": {
   "codemirror_mode": {
    "name": "ipython",
    "version": 3
   },
   "file_extension": ".py",
   "mimetype": "text/x-python",
   "name": "python",
   "nbconvert_exporter": "python",
   "pygments_lexer": "ipython3",
   "version": "3.9.12"
  },
  "orig_nbformat": 4
 },
 "nbformat": 4,
 "nbformat_minor": 2
}
